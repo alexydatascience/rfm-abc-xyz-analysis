{
  "nbformat": 4,
  "nbformat_minor": 0,
  "metadata": {
    "colab": {
      "name": "rfm_abc_xyz.ipynb",
      "provenance": [],
      "collapsed_sections": [],
      "toc_visible": true,
      "mount_file_id": "1QnAyxvI_cOcgLK3fCIdL3YqFUnLZu9UH",
      "authorship_tag": "ABX9TyOMv06DIDs0yyzB06y+2IP9"
    },
    "kernelspec": {
      "name": "python3",
      "display_name": "Python 3"
    }
  },
  "cells": [
    {
      "cell_type": "code",
      "metadata": {
        "id": "H7lCR8ugTZU0"
      },
      "source": [
        "import pandas as pd\n",
        "import numpy as np\n",
        "\n",
        "from pycbrf.toolbox import ExchangeRates\n",
        "import datetime as dt\n",
        "\n",
        "np.set_printoptions(precision=2)"
      ],
      "execution_count": 2,
      "outputs": []
    },
    {
      "cell_type": "markdown",
      "metadata": {
        "id": "mREod8M0D8Np"
      },
      "source": [
        "# Functions"
      ]
    },
    {
      "cell_type": "markdown",
      "metadata": {
        "id": "9-5P4ZiZD4kz"
      },
      "source": [
        "## Preprocessing"
      ]
    },
    {
      "cell_type": "code",
      "metadata": {
        "id": "aNtJY6akXek2"
      },
      "source": [
        "def preprocess(df):\n",
        "    \n",
        "
        "    df.columns = ['no', 'date', 'cust', 'contr', 'amount', 'cur'] \n",
        "\n",
        "    df.date = pd.to_datetime(df.date)\n",
        "    df.amount = df.amount.str.replace(',', '.')\n",
        "    df.amount = df.amount.str.replace('\\xa0', '') \n",
        "    df.amount = df.amount.astype('float')  \n",
        "\n",
        "    df['year'] = df.date.dt.year\n",
        "    df['year_month'] = df['date'].dt.strftime('%Y-%m')\n",
        "    \n",
        "    for curr in ['EUR', 'USD']:\n",
        "        curr_sales = df[df.cur==curr]\n",
        "        for row in curr_sales.index:\n",
        "            rate = ExchangeRates(df.loc[row].date)[curr][-1]\n",
        "            rate = float(rate)\n",
        "            df.at[row, 'amount'] = df.loc[row].amount * rate\n",
        "\n",
        "    df = df.dropna()\n",
        "    \n",
        "    return df"
      ],
      "execution_count": 4,
      "outputs": []
    },
    {
      "cell_type": "markdown",
      "metadata": {
        "id": "QM8_valCD-6M"
      },
      "source": [
        "## RFM"
      ]
    },
    {
      "cell_type": "code",
      "metadata": {
        "id": "Bh2cqQOeZ5Az"
      },
      "source": [
        "def rfm_score(row, col, q):\n",
        "    \n",
        "    if row <= q.loc[.25, col]:\n",
        "        return 1 if col == 'recency' else 4\n",
        "    elif row <= q.loc[.5, col]:\n",
        "        return 2 if col == 'recency' else 3\n",
        "    elif row <= q.loc[.75, col]:\n",
        "        return 3 if col == 'recency' else 2\n",
        "    else:\n",
        "        return 4 if col == 'recency' else 1\n",
        "\n",
        "\n",
        "def create_rfm(df):\n",
        "    now = df.date.max()\n",
        "    aggs = {'date': lambda x: (now - x.max()).days, \n",
        "            'no': lambda x: len(x), \n",
        "            'amount': lambda x: x.sum()}\n",
        "\n",
        "    rfm = df.groupby('cust').agg(aggs).reset_index()\n",
        "    rfm['date'] = rfm['date'].astype(int)\n",
        "    rfm.columns = ['cust', 'recency', 'frequency', 'monetary']\n",
        "\n",
        "    quantiles = rfm.quantile([0.25, 0.5, 0.75])\n",
        "\n",
        "    for col in rfm.columns[-3:]:\n",
        "        rfm[col + '_score'] = rfm[col].apply(rfm_score, col=col, q=quantiles)\n",
        "\n",
        "    rfm['rfm_score'] = rfm.iloc[:, -3:].astype('str').sum(axis=1).astype('uint') \n",
        "    rfm = rfm.sort_values(by=['rfm_score'])\n",
        "    return rfm   "
      ],
      "execution_count": 5,
      "outputs": []
    },
    {
      "cell_type": "markdown",
      "metadata": {
        "id": "eyIsbWzz8FL3"
      },
      "source": [
        "## ABC"
      ]
    },
    {
      "cell_type": "code",
      "metadata": {
        "id": "ZlXiC9jXSI0m"
      },
      "source": [
        "def create_abc(df, split=[0.8, 0.15, 0.05]):\r\n",
        "    \r\n",
        "    out = df.groupby('cust').amount.sum().reset_index()\r\n",
        "    out = out.sort_values(by=['amount'], ascending=False, ignore_index=True)\r\n",
        "    total_sales = out.amount.sum()\r\n",
        "    out['share'] = out.amount / total_sales\r\n",
        "    out['cum_share'] = out.share[0]\r\n",
        "    for i in range(1, out.shape[0]):\r\n",
        "        out.cum_share[i] = out.cum_share[i - 1] + out.share[i] \r\n",
        "\r\n",
        "    out['abc'] = 'B'\r\n",
        "    out.loc[out.cum_share <= split[0], 'abc'] = 'A'\r\n",
        "    out.loc[out.cum_share > 1 - split[2], 'abc'] = 'C'\r\n",
        "    \r\n",
        "    return out"
      ],
      "execution_count": null,
      "outputs": []
    },
    {
      "cell_type": "markdown",
      "metadata": {
        "id": "1Nfvc1N98GwX"
      },
      "source": [
        "## XYZ"
      ]
    },
    {
      "cell_type": "code",
      "metadata": {
        "id": "nvBVbN5clTMB"
      },
      "source": [
        "def create_xyz(df, split=[0.1, 0.25]): \r\n",
        "    \r\n",
        "    out = df.groupby('cust').amount.sum().reset_index()\r\n",
        "\r\n",
        "    monthly_sales = pd.pivot_table(df, 'amount', 'year_month', 'cust', 'sum')\r\n",
        "    monthly_sales = monthly_sales.fillna(0)\r\n",
        "\r\n",
        "    for customer in monthly_sales.columns:\r\n",
        "        monthly_cust = monthly_sales[customer].values\r\n",
        "        sigma = monthly_cust.std()\r\n",
        "        mu = monthly_cust.mean()\r\n",
        "        out.loc[out.cust == customer, 'cv'] = sigma / mu\r\n",
        "\r\n",
        "    out = out.sort_values(by=['cv'], ignore_index=True)\r\n",
        "   \r\n",
        "    out['xyz'] = 'Y'\r\n",
        "    out.loc[out.cv <= split[0], 'xyz'] = 'X'\r\n",
        "    out.loc[out.cv > split[1], 'xyz'] = 'C'\r\n",
        "    \r\n",
        "    return out"
      ],
      "execution_count": null,
      "outputs": []
    }
  ]
}
